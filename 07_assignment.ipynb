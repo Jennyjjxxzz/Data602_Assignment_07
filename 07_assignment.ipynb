{
  "nbformat": 4,
  "nbformat_minor": 0,
  "metadata": {
    "colab": {
      "name": "07_assignment.ipynb",
      "provenance": [],
      "include_colab_link": true
    },
    "kernelspec": {
      "name": "python3",
      "display_name": "Python 3"
    }
  },
  "cells": [
    {
      "cell_type": "markdown",
      "metadata": {
        "id": "view-in-github",
        "colab_type": "text"
      },
      "source": [
        "<a href=\"https://colab.research.google.com/github/Jennyjjxxzz/Data602_Assignment_07/blob/main/07_assignment.ipynb\" target=\"_parent\"><img src=\"https://colab.research.google.com/assets/colab-badge.svg\" alt=\"Open In Colab\"/></a>"
      ]
    },
    {
      "cell_type": "markdown",
      "metadata": {
        "id": "rd2QZetSDszc"
      },
      "source": [
        "# **Assignment 7**\n",
        "\n",
        "# **Weeks 8 & 9 - Pandas**\n",
        "* In this homework assignment, you will explore and analyze a public dataset of your choosing. Since this assignment is “open-ended” in nature, you are free to expand upon the requirements below. However, you must meet the minimum requirments as indicated in each section.\n",
        "\n",
        "* You must use Pandas as the **primary tool** to process your data.\n",
        "\n",
        "* The preferred method for this analysis is in a .ipynb file. Feel free to use whichever platform of your choosing.  \n",
        " * https://www.youtube.com/watch?v=inN8seMm7UI (Getting started with Colab).\n",
        "\n",
        "* Your data should need some \"work\", or be considered \"dirty\".  You must show your skills in data cleaning/wrangling.\n",
        "\n",
        "### **Some data examples:**\n",
        "•\thttps://www.data.gov/\n",
        "\n",
        "•\thttps://opendata.cityofnewyork.us/\n",
        "\n",
        "•\thttps://datasetsearch.research.google.com/\n",
        "\n",
        "•\thttps://archive.ics.uci.edu/ml/index.php\n",
        "\n",
        "### **Resources:**\n",
        "\n",
        "•\thttps://pandas.pydata.org/pandas-docs/stable/getting_started/10min.html\n",
        "\n",
        "•\thttps://pandas.pydata.org/pandas-docs/stable/user_guide/visualization.html\n",
        "\n",
        "\n",
        "### **Headings or comments**\n",
        "**You are required to make use of comments, or headings for each section.  You must explain what your code is doing, and the results of running your code.**  Act as if you were giving this assignment to your manager - you must include clear and descriptive information for each section.\n",
        "\n",
        "### **You may work as a group or indivdually on this assignment.**\n"
      ]
    },
    {
      "cell_type": "markdown",
      "metadata": {
        "id": "uW3w6p8rqgxu"
      },
      "source": [
        "# Introduction\n",
        "\n",
        "In this section, please describe the dataset you are using.  Include a link to the source of this data.  You should also provide some explanation on why you choose this dataset."
      ]
    },
    {
      "cell_type": "markdown",
      "metadata": {
        "id": "L0PnfMOFzOXz"
      },
      "source": [
        "The data I am using is \"Weather\" Data.This data including temperature, humidity, wind speed, and more. This data offering opportunities to explore trends over time."
      ]
    },
    {
      "cell_type": "markdown",
      "metadata": {
        "id": "3bp8cdDxDs2t"
      },
      "source": [
        "______________\n",
        "# Data Exploration\n",
        "Import your dataset into your .ipynb, create dataframes, and explore your data.  \n",
        "\n",
        "Include:\n",
        "\n",
        "* Summary statistics means, medians, quartiles,\n",
        "* Missing value information\n",
        "* Any other relevant information about the dataset.  \n",
        "\n"
      ]
    },
    {
      "cell_type": "code",
      "metadata": {
        "id": "1OJmbafkEhhq"
      },
      "source": [
        "import pandas as pd"
      ],
      "execution_count": 113,
      "outputs": []
    },
    {
      "cell_type": "code",
      "metadata": {
        "id": "b0WTKtqozNn1",
        "colab": {
          "base_uri": "https://localhost:8080/"
        },
        "outputId": "80bdb3f2-5648-48af-897e-ecb1a78fdd83"
      },
      "source": [
        "df = pd.read_csv ('https://raw.githubusercontent.com/Jennyjjxxzz/Data602_Assignment_07/refs/heads/main/weather.csv')\n",
        "print(df.head())"
      ],
      "execution_count": 114,
      "outputs": [
        {
          "output_type": "stream",
          "name": "stdout",
          "text": [
            "   Unnamed: 0 origin  year  month  day  hour   temp   dewp  humid  wind_dir  \\\n",
            "0           1    EWR  2013    1.0  1.0   0.0  37.04  21.92  53.97     230.0   \n",
            "1           2    EWR  2013    1.0  1.0   1.0  37.04  21.92  53.97     230.0   \n",
            "2           3    EWR  2013    1.0  1.0   2.0  37.94  21.92  52.09     230.0   \n",
            "3           4    EWR  2013    1.0  1.0   3.0  37.94  23.00  54.51     230.0   \n",
            "4           5    EWR  2013    1.0  1.0   4.0  37.94  24.08  57.04     240.0   \n",
            "\n",
            "   wind_speed  wind_gust  precip  pressure  visib  \n",
            "0    10.35702  11.918651     0.0    1013.9   10.0  \n",
            "1    13.80936  15.891535     0.0    1013.0   10.0  \n",
            "2    12.65858  14.567241     0.0    1012.6   10.0  \n",
            "3    13.80936  15.891535     0.0    1012.7   10.0  \n",
            "4    14.96014  17.215830     0.0    1012.8   10.0  \n"
          ]
        }
      ]
    },
    {
      "cell_type": "markdown",
      "metadata": {
        "id": "kCSLIafaEGVK"
      },
      "source": [
        "# Data Wrangling\n",
        "Create a subset of your original data and perform the following.  \n",
        "\n",
        "1. Modify multiple column names.\n",
        "\n",
        "2. Look at the structure of your data – are any variables improperly coded? Such as strings or characters? Convert to correct structure if needed.\n",
        "\n",
        "3. Fix missing and invalid values in data.\n",
        "\n",
        "4. Create new columns based on existing columns or calculations.\n",
        "\n",
        "5. Drop column(s) from your dataset.\n",
        "\n",
        "6. Drop a row(s) from your dataset.\n",
        "\n",
        "7. Sort your data based on multiple variables.\n",
        "\n",
        "8. Filter your data based on some condition.\n",
        "\n",
        "9. Convert all the string values to upper or lower cases in one column.\n",
        "\n",
        "10. Check whether numeric values are present in a given column of your dataframe.\n",
        "\n",
        "11. Group your dataset by one column, and get the mean, min, and max values by group.\n",
        "  * Groupby()\n",
        "  * agg() or .apply()\n",
        "\n",
        "12. Group your dataset by two columns and then sort the aggregated results within the groups.\n",
        "\n",
        "**You are free (and should) to add on to these questions.  Please clearly indicate in your assignment your answers to these questions.**"
      ]
    },
    {
      "cell_type": "markdown",
      "source": [
        "1.Modify multiple column names."
      ],
      "metadata": {
        "id": "n9yrL-H9BzZM"
      }
    },
    {
      "cell_type": "code",
      "metadata": {
        "id": "4VWWvvynEiQT",
        "colab": {
          "base_uri": "https://localhost:8080/"
        },
        "outputId": "89549761-763f-4628-9fcb-381f41279fa4"
      },
      "source": [
        "df.rename(columns={'visib': 'visible'},inplace=True)\n",
        "print(df)"
      ],
      "execution_count": 115,
      "outputs": [
        {
          "output_type": "stream",
          "name": "stdout",
          "text": [
            "      Unnamed: 0 origin  year  month   day  hour   temp   dewp  humid  \\\n",
            "0              1    EWR  2013    1.0   1.0   0.0  37.04  21.92  53.97   \n",
            "1              2    EWR  2013    1.0   1.0   1.0  37.04  21.92  53.97   \n",
            "2              3    EWR  2013    1.0   1.0   2.0  37.94  21.92  52.09   \n",
            "3              4    EWR  2013    1.0   1.0   3.0  37.94  23.00  54.51   \n",
            "4              5    EWR  2013    1.0   1.0   4.0  37.94  24.08  57.04   \n",
            "...          ...    ...   ...    ...   ...   ...    ...    ...    ...   \n",
            "8714        8715    JFK  2013    9.0   2.0  20.0  75.20  73.40  94.14   \n",
            "8715        8716    JFK  2013   10.0  23.0  10.0  48.92  39.02  68.51   \n",
            "8716        8717    JFK  2013   10.0  23.0  11.0  48.92  39.02  68.51   \n",
            "8717        8718    JFK  2013   12.0  17.0   5.0  26.96  10.94  50.34   \n",
            "8718        8719    LGA  2013    8.0  22.0  22.0  75.92  66.92  73.68   \n",
            "\n",
            "      wind_dir  wind_speed  wind_gust  precip  pressure  visible  \n",
            "0        230.0    10.35702  11.918651     0.0    1013.9     10.0  \n",
            "1        230.0    13.80936  15.891535     0.0    1013.0     10.0  \n",
            "2        230.0    12.65858  14.567241     0.0    1012.6     10.0  \n",
            "3        230.0    13.80936  15.891535     0.0    1012.7     10.0  \n",
            "4        240.0    14.96014  17.215830     0.0    1012.8     10.0  \n",
            "...        ...         ...        ...     ...       ...      ...  \n",
            "8714     200.0     4.60312   5.297178     0.0       NaN      4.0  \n",
            "8715      60.0     4.60312   5.297178     0.0    1008.1     10.0  \n",
            "8716      40.0     4.60312   5.297178     0.0    1008.5     10.0  \n",
            "8717      40.0     4.60312   5.297178     0.0    1023.9     10.0  \n",
            "8718     210.0     8.05546   9.270062     0.0    1011.9     10.0  \n",
            "\n",
            "[8719 rows x 15 columns]\n"
          ]
        }
      ]
    },
    {
      "cell_type": "markdown",
      "source": [
        "2. Look at the structure of your data"
      ],
      "metadata": {
        "id": "L5m4m9fsCDxo"
      }
    },
    {
      "cell_type": "code",
      "source": [
        "print(df.dtypes)"
      ],
      "metadata": {
        "id": "nATPKSaNXD9B",
        "colab": {
          "base_uri": "https://localhost:8080/"
        },
        "outputId": "893e8aa2-77ed-472b-aef1-c78bb8931078"
      },
      "execution_count": 116,
      "outputs": [
        {
          "output_type": "stream",
          "name": "stdout",
          "text": [
            "Unnamed: 0      int64\n",
            "origin         object\n",
            "year            int64\n",
            "month         float64\n",
            "day           float64\n",
            "hour          float64\n",
            "temp          float64\n",
            "dewp          float64\n",
            "humid         float64\n",
            "wind_dir      float64\n",
            "wind_speed    float64\n",
            "wind_gust     float64\n",
            "precip        float64\n",
            "pressure      float64\n",
            "visible       float64\n",
            "dtype: object\n"
          ]
        }
      ]
    },
    {
      "cell_type": "code",
      "source": [
        "df['month']= df['month'].astype('Int64')\n",
        "df['day']= df['day'].astype('Int64')\n",
        "df['hour']= df['hour'].astype('Int64')"
      ],
      "metadata": {
        "id": "A13RcxWYCTXQ"
      },
      "execution_count": 117,
      "outputs": []
    },
    {
      "cell_type": "code",
      "source": [
        "print(df.dtypes)"
      ],
      "metadata": {
        "id": "ZFrCtz8qD0jt",
        "outputId": "7da8a62e-7c32-4498-ddb4-96e11e09cf43",
        "colab": {
          "base_uri": "https://localhost:8080/"
        }
      },
      "execution_count": 118,
      "outputs": [
        {
          "output_type": "stream",
          "name": "stdout",
          "text": [
            "Unnamed: 0      int64\n",
            "origin         object\n",
            "year            int64\n",
            "month           Int64\n",
            "day             Int64\n",
            "hour            Int64\n",
            "temp          float64\n",
            "dewp          float64\n",
            "humid         float64\n",
            "wind_dir      float64\n",
            "wind_speed    float64\n",
            "wind_gust     float64\n",
            "precip        float64\n",
            "pressure      float64\n",
            "visible       float64\n",
            "dtype: object\n"
          ]
        }
      ]
    },
    {
      "cell_type": "markdown",
      "source": [
        "3. Fix missing and invalid values in data."
      ],
      "metadata": {
        "id": "dgTS5x9zD7gh"
      }
    },
    {
      "cell_type": "code",
      "source": [
        "missing_values = df.isnull()\n",
        "print(missing_values)"
      ],
      "metadata": {
        "id": "IzfMFIDrD-w-",
        "outputId": "dec61230-4ea7-40a4-8ae6-95a0cb70054e",
        "colab": {
          "base_uri": "https://localhost:8080/"
        }
      },
      "execution_count": 119,
      "outputs": [
        {
          "output_type": "stream",
          "name": "stdout",
          "text": [
            "      Unnamed: 0  origin   year  month    day   hour   temp   dewp  humid  \\\n",
            "0          False   False  False  False  False  False  False  False  False   \n",
            "1          False   False  False  False  False  False  False  False  False   \n",
            "2          False   False  False  False  False  False  False  False  False   \n",
            "3          False   False  False  False  False  False  False  False  False   \n",
            "4          False   False  False  False  False  False  False  False  False   \n",
            "...          ...     ...    ...    ...    ...    ...    ...    ...    ...   \n",
            "8714       False   False  False  False  False  False  False  False  False   \n",
            "8715       False   False  False  False  False  False  False  False  False   \n",
            "8716       False   False  False  False  False  False  False  False  False   \n",
            "8717       False   False  False  False  False  False  False  False  False   \n",
            "8718       False   False  False  False  False  False  False  False  False   \n",
            "\n",
            "      wind_dir  wind_speed  wind_gust  precip  pressure  visible  \n",
            "0        False       False      False   False     False    False  \n",
            "1        False       False      False   False     False    False  \n",
            "2        False       False      False   False     False    False  \n",
            "3        False       False      False   False     False    False  \n",
            "4        False       False      False   False     False    False  \n",
            "...        ...         ...        ...     ...       ...      ...  \n",
            "8714     False       False      False   False      True    False  \n",
            "8715     False       False      False   False     False    False  \n",
            "8716     False       False      False   False     False    False  \n",
            "8717     False       False      False   False     False    False  \n",
            "8718     False       False      False   False     False    False  \n",
            "\n",
            "[8719 rows x 15 columns]\n"
          ]
        }
      ]
    },
    {
      "cell_type": "code",
      "source": [
        "df ['pressure'] = df['pressure'].fillna(df['pressure'].median())"
      ],
      "metadata": {
        "id": "2_pTspy9ER8D"
      },
      "execution_count": 120,
      "outputs": []
    },
    {
      "cell_type": "code",
      "source": [
        "df = df.dropna(subset=['temp'])"
      ],
      "metadata": {
        "id": "oTBo8geyEuul"
      },
      "execution_count": 121,
      "outputs": []
    },
    {
      "cell_type": "markdown",
      "source": [
        "4. reate new columns based on existing columns or calculations."
      ],
      "metadata": {
        "id": "mIXMksaQFMcq"
      }
    },
    {
      "cell_type": "code",
      "source": [
        "df['feels_like_temp'] = df['temp'] - ((100 - df['humid']) / 5)\n",
        "print(df)"
      ],
      "metadata": {
        "id": "-w-sK0H4FOuM",
        "outputId": "764b01c0-3840-4e20-b284-92a36ec95679",
        "colab": {
          "base_uri": "https://localhost:8080/"
        }
      },
      "execution_count": 122,
      "outputs": [
        {
          "output_type": "stream",
          "name": "stdout",
          "text": [
            "      Unnamed: 0 origin  year  month  day  hour   temp   dewp  humid  \\\n",
            "0              1    EWR  2013      1    1     0  37.04  21.92  53.97   \n",
            "1              2    EWR  2013      1    1     1  37.04  21.92  53.97   \n",
            "2              3    EWR  2013      1    1     2  37.94  21.92  52.09   \n",
            "3              4    EWR  2013      1    1     3  37.94  23.00  54.51   \n",
            "4              5    EWR  2013      1    1     4  37.94  24.08  57.04   \n",
            "...          ...    ...   ...    ...  ...   ...    ...    ...    ...   \n",
            "8714        8715    JFK  2013      9    2    20  75.20  73.40  94.14   \n",
            "8715        8716    JFK  2013     10   23    10  48.92  39.02  68.51   \n",
            "8716        8717    JFK  2013     10   23    11  48.92  39.02  68.51   \n",
            "8717        8718    JFK  2013     12   17     5  26.96  10.94  50.34   \n",
            "8718        8719    LGA  2013      8   22    22  75.92  66.92  73.68   \n",
            "\n",
            "      wind_dir  wind_speed  wind_gust  precip  pressure  visible  \\\n",
            "0        230.0    10.35702  11.918651     0.0    1013.9     10.0   \n",
            "1        230.0    13.80936  15.891535     0.0    1013.0     10.0   \n",
            "2        230.0    12.65858  14.567241     0.0    1012.6     10.0   \n",
            "3        230.0    13.80936  15.891535     0.0    1012.7     10.0   \n",
            "4        240.0    14.96014  17.215830     0.0    1012.8     10.0   \n",
            "...        ...         ...        ...     ...       ...      ...   \n",
            "8714     200.0     4.60312   5.297178     0.0    1017.5      4.0   \n",
            "8715      60.0     4.60312   5.297178     0.0    1008.1     10.0   \n",
            "8716      40.0     4.60312   5.297178     0.0    1008.5     10.0   \n",
            "8717      40.0     4.60312   5.297178     0.0    1023.9     10.0   \n",
            "8718     210.0     8.05546   9.270062     0.0    1011.9     10.0   \n",
            "\n",
            "      feels_like_temp  \n",
            "0              27.834  \n",
            "1              27.834  \n",
            "2              28.358  \n",
            "3              28.842  \n",
            "4              29.348  \n",
            "...               ...  \n",
            "8714           74.028  \n",
            "8715           42.622  \n",
            "8716           42.622  \n",
            "8717           17.028  \n",
            "8718           70.656  \n",
            "\n",
            "[8718 rows x 16 columns]\n"
          ]
        }
      ]
    },
    {
      "cell_type": "markdown",
      "source": [
        "5. Drop column(s) from your dataset."
      ],
      "metadata": {
        "id": "9Z72wHp2G1wa"
      }
    },
    {
      "cell_type": "code",
      "source": [
        "df.drop(columns=['Unnamed: 0', 'precip'], inplace=True)"
      ],
      "metadata": {
        "id": "cRD-cK0sG0qA"
      },
      "execution_count": 123,
      "outputs": []
    },
    {
      "cell_type": "markdown",
      "source": [
        "6. Drop a row(s) from your dataset."
      ],
      "metadata": {
        "id": "ahFdm0kxG6go"
      }
    },
    {
      "cell_type": "code",
      "source": [
        "df = df[df['wind_speed'] >= 0]\n",
        "print(df)"
      ],
      "metadata": {
        "id": "HRFF64LeHBmr",
        "outputId": "5a3f0b9a-4f52-4ef1-c182-f37fea46ea1e",
        "colab": {
          "base_uri": "https://localhost:8080/"
        }
      },
      "execution_count": 129,
      "outputs": [
        {
          "output_type": "stream",
          "name": "stdout",
          "text": [
            "     origin  year  month  day  hour    temp   dewp  humid  wind_dir  \\\n",
            "4765    EWR  2013      7   18    19  100.04  66.02  33.23     300.0   \n",
            "4790    EWR  2013      7   19    20  100.04  71.06  39.51     230.0   \n",
            "4788    EWR  2013      7   19    18   98.96  71.06  40.82     250.0   \n",
            "4789    EWR  2013      7   19    19   98.96  71.96  42.09     240.0   \n",
            "4787    EWR  2013      7   19    17   98.96  71.96  42.09     260.0   \n",
            "...     ...   ...    ...  ...   ...     ...    ...    ...       ...   \n",
            "536     EWR  2013      1   23     9   12.02  -5.08  45.43     270.0   \n",
            "539     EWR  2013      1   23    12   12.02  -2.92  50.37     270.0   \n",
            "559     EWR  2013      1   24     8   12.02   1.94  63.31      30.0   \n",
            "537     EWR  2013      1   23    10   10.94  -4.00  50.19     270.0   \n",
            "538     EWR  2013      1   23    11   10.94  -4.00  50.19     270.0   \n",
            "\n",
            "      wind_speed  wind_gust  pressure  visible  feels_like_temp  \n",
            "4765     9.20624  10.594357    1015.0     10.0           86.686  \n",
            "4790    20.71404  23.837303    1009.4     10.0           87.942  \n",
            "4788    20.71404  23.837303    1011.0     10.0           87.124  \n",
            "4789    16.11092  18.540125    1010.1      9.0           87.378  \n",
            "4787    18.41248  21.188714    1011.7     10.0           87.378  \n",
            "...          ...        ...       ...      ...              ...  \n",
            "536      9.20624  10.594357    1023.6     10.0            1.106  \n",
            "539     11.50780  13.242946    1024.2     10.0            2.094  \n",
            "559      4.60312   5.297178    1020.7     10.0            4.682  \n",
            "537     10.35702  11.918651    1023.8     10.0            0.978  \n",
            "538     11.50780  13.242946    1024.0     10.0            0.978  \n",
            "\n",
            "[8717 rows x 14 columns]\n"
          ]
        }
      ]
    },
    {
      "cell_type": "markdown",
      "source": [
        "7. Sort your data based on multiple variables."
      ],
      "metadata": {
        "id": "xX8Kz47vJCOw"
      }
    },
    {
      "cell_type": "code",
      "source": [
        "df = df.sort_values(by=['temp', 'humid'], ascending=[False, True])"
      ],
      "metadata": {
        "id": "-sf7pnmQJICQ"
      },
      "execution_count": 133,
      "outputs": []
    },
    {
      "cell_type": "markdown",
      "source": [
        "8. Filter your data based on some condition."
      ],
      "metadata": {
        "id": "o8ELMVfRJK5E"
      }
    },
    {
      "cell_type": "code",
      "source": [
        "above_32_temp = df[df['temp'] > 32]"
      ],
      "metadata": {
        "id": "Ef-DSbZjJ80x"
      },
      "execution_count": 134,
      "outputs": []
    },
    {
      "cell_type": "markdown",
      "source": [
        "9. Convert all the string values to upper or lower cases in one column."
      ],
      "metadata": {
        "id": "HwBPOfqAJVcL"
      }
    },
    {
      "cell_type": "code",
      "source": [
        "df['origin'] = df['origin'].str.upper()"
      ],
      "metadata": {
        "id": "kbKHxBTcJ9P3"
      },
      "execution_count": 138,
      "outputs": []
    },
    {
      "cell_type": "markdown",
      "source": [
        "10. Check whether numeric values are present in a given column of your dataframe."
      ],
      "metadata": {
        "id": "X5QY-mY6JZmg"
      }
    },
    {
      "cell_type": "code",
      "source": [
        "is_numeric = pd.to_numeric(df['pressure'], errors='coerce').notnull().all()\n",
        "print(is_numeric)\n"
      ],
      "metadata": {
        "id": "fIcifMv1J9uC",
        "outputId": "f03c8d74-8442-4f2d-adbd-2c1717c58484",
        "colab": {
          "base_uri": "https://localhost:8080/"
        }
      },
      "execution_count": 142,
      "outputs": [
        {
          "output_type": "stream",
          "name": "stdout",
          "text": [
            "True\n"
          ]
        }
      ]
    },
    {
      "cell_type": "markdown",
      "source": [
        "11. Group your dataset by one column, and get the mean, min, and max values by group. Groupby(), agg(), or .apply()"
      ],
      "metadata": {
        "id": "6CVeWNtyJdyu"
      }
    },
    {
      "cell_type": "code",
      "source": [
        "monthly_stats = df.groupby('month')['temp'].agg(['mean', 'min', 'max']).reset_index()\n",
        "print(monthly_stats)"
      ],
      "metadata": {
        "id": "zaLTyWCcJ-tA",
        "outputId": "d33e46aa-39a3-401a-8e95-439fd22f57b5",
        "colab": {
          "base_uri": "https://localhost:8080/"
        }
      },
      "execution_count": 143,
      "outputs": [
        {
          "output_type": "stream",
          "name": "stdout",
          "text": [
            "    month       mean    min     max\n",
            "0       1  35.563176  10.94   64.40\n",
            "1       2  34.132906  15.98   55.94\n",
            "2       3  40.027224  26.06   60.08\n",
            "3       4  52.901000  30.92   84.02\n",
            "4       5  63.103710  42.98   93.02\n",
            "5       6  73.249500  55.04   93.92\n",
            "6       7  80.614516  64.04  100.04\n",
            "7       8  74.460054  59.00   89.96\n",
            "8       9  67.366750  48.02   95.00\n",
            "9      10  59.690488  33.08   89.06\n",
            "10     11  44.698571  21.02   71.06\n",
            "11     12  37.872750  17.96   71.60\n"
          ]
        }
      ]
    },
    {
      "cell_type": "markdown",
      "source": [
        "12. Group your dataset by two columns and then sort the aggregated results within the groups."
      ],
      "metadata": {
        "id": "f_BUK_YTJgb6"
      }
    },
    {
      "cell_type": "code",
      "source": [
        "grouped = df.groupby(['origin', 'month'])['wind_speed'].mean().reset_index()\n",
        "\n",
        "grouped = grouped.sort_values(by=['origin', 'wind_speed'], ascending=[True, False])\n",
        "print(grouped)"
      ],
      "metadata": {
        "id": "Dv544NIzJ_TQ",
        "outputId": "b44978aa-d900-4c7e-9e4e-673414ab7bed",
        "colab": {
          "base_uri": "https://localhost:8080/"
        }
      },
      "execution_count": 144,
      "outputs": [
        {
          "output_type": "stream",
          "name": "stdout",
          "text": [
            "   origin  month  wind_speed\n",
            "1     EWR      2   12.135655\n",
            "2     EWR      3   11.507800\n",
            "10    EWR     11   10.287715\n",
            "0     EWR      1    9.681731\n",
            "3     EWR      4    9.541884\n",
            "5     EWR      6    9.401233\n",
            "6     EWR      7    8.998137\n",
            "11    EWR     12    8.750089\n",
            "4     EWR      5    8.298299\n",
            "9     EWR     10    8.166473\n",
            "8     EWR      9    7.996240\n",
            "7     EWR      8    7.485520\n",
            "12    JFK      2   28.194110\n",
            "13    JFK      7    9.973427\n",
            "14    JFK      9    4.603120\n",
            "15    JFK     10    4.603120\n",
            "16    JFK     12    4.603120\n",
            "17    LGA      8    8.055460\n"
          ]
        }
      ]
    },
    {
      "cell_type": "code",
      "source": [
        "import matplotlib.pyplot as plt\n",
        "\n",
        "origin_wind_speed = df.groupby('origin')['wind_speed'].mean()\n",
        "origin_wind_speed.plot(kind='bar', title='Average Wind Speed by Origin')\n",
        "plt.xlabel('Origin')\n",
        "plt.ylabel('Wind Speed (mph)')\n",
        "plt.show()"
      ],
      "metadata": {
        "id": "Fqab3VPnOVAy",
        "outputId": "66e2c9d8-a9f2-41be-d036-0c228cbdc8f9",
        "colab": {
          "base_uri": "https://localhost:8080/",
          "height": 490
        }
      },
      "execution_count": 149,
      "outputs": [
        {
          "output_type": "display_data",
          "data": {
            "text/plain": [
              "<Figure size 640x480 with 1 Axes>"
            ],
            "image/png": "[encoded data removed]"
          },
          "metadata": {}
        }
      ]
    },
    {
      "cell_type": "markdown",
      "source": [
        "# Conclusions  \n",
        "\n",
        "After exploring your dataset, provide a short summary of what you noticed from this dataset.  What would you explore further with more time?"
      ],
      "metadata": {
        "id": "tujjevRpXEen"
      }
    },
    {
      "cell_type": "markdown",
      "source": [
        "I see during the month of February, the JFK origin experienced the highest wind speeds compared to other months and origin. With more time, I would like explore the 'feels_like_temp' metric in greater detail."
      ],
      "metadata": {
        "id": "3qeQB53KN7lx"
      }
    }
  ]
}